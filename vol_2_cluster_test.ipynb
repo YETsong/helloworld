{
 "cells": [
  {
   "cell_type": "code",
   "execution_count": 42,
   "metadata": {},
   "outputs": [],
   "source": [
    "import pandas as pd\n",
    "import numpy as np\n",
    "from scipy.spatial.distance import pdist, squareform\n",
    "import matplotlib.pyplot as plt\n",
    "import matplotlib\n",
    "from scipy.cluster.hierarchy import linkage\n",
    "from scipy.cluster.hierarchy import dendrogram"
   ]
  },
  {
   "cell_type": "code",
   "execution_count": 69,
   "metadata": {},
   "outputs": [
    {
     "data": {
      "image/png": "[encoded data removed]",
      "text/plain": [
       "<Figure size 432x288 with 1 Axes>"
      ]
     },
     "metadata": {
      "needs_background": "light"
     },
     "output_type": "display_data"
    }
   ],
   "source": [
    "np.random.seed(121)\n",
    "var = ['X', 'Y']\n",
    "labels = ['spot0', 'spot1', 'spot2', 'spot3', 'spot4', \n",
    "          'spot5', 'spot6', 'spot7', 'spot8', 'spot9']\n",
    "X = np.random.random_sample([10,2])*20\n",
    "df = pd.DataFrame(X, columns = var, index = labels)\n",
    "#df는 점5개의 x,y 좌표를 저장해둠\n",
    "\n",
    "plt.scatter(X[:,0], X[:,1], c = 'blue', marker = 'o', s = 30)\n",
    "plt.grid(True)\n",
    "i=0\n",
    "for i in range(0,10):\n",
    "    str_val = \"(%.1f,%.1f)-%s\"%(X[i,0], X[i,1], labels[i])\n",
    "    plt.text(X[i,0]+0.5, X[i,1], str_val, fontsize=9, color='black',\n",
    "             horizontalalignment = 'left', verticalalignment = 'center')\n",
    "\n",
    "plt.show()"
   ]
  },
  {
   "cell_type": "code",
   "execution_count": 45,
   "metadata": {},
   "outputs": [
    {
     "name": "stdout",
     "output_type": "stream",
     "text": [
      "           spot0      spot1      spot2      spot3      spot4      spot5  \\\n",
      "spot0   0.000000   2.702177  14.907854  13.906960  15.404095  17.728641   \n",
      "spot1   2.702177   0.000000  12.995225  13.513763  16.337252  15.901932   \n",
      "spot2  14.907854  12.995225   0.000000   8.700927  16.158949   2.947552   \n",
      "spot3  13.906960  13.513763   8.700927   0.000000   7.595185   9.442336   \n",
      "spot4  15.404095  16.337252  16.158949   7.595185   0.000000  17.030975   \n",
      "spot5  17.728641  15.901932   2.947552   9.442336  17.030975   0.000000   \n",
      "spot6  13.069894  14.751805  18.561989  10.981101   5.111790  20.083070   \n",
      "spot7  10.113505  10.019453   9.526019   3.893467   7.597826  11.271468   \n",
      "spot8  14.840142  15.602885  14.941979   6.378021   1.220409  15.816838   \n",
      "spot9   9.245957   8.996216   9.069858   4.661163   8.620306  11.050483   \n",
      "\n",
      "           spot6      spot7      spot8      spot9  \n",
      "spot0  13.069894  10.113505  14.840142   9.245957  \n",
      "spot1  14.751805  10.019453  15.602885   8.996216  \n",
      "spot2  18.561989   9.526019  14.941979   9.069858  \n",
      "spot3  10.981101   3.893467   6.378021   4.661163  \n",
      "spot4   5.111790   7.597826   1.220409   8.620306  \n",
      "spot5  20.083070  11.271468  15.816838  11.050483  \n",
      "spot6   0.000000   9.050489   5.725437   9.680757  \n",
      "spot7   9.050489   0.000000   6.521480   1.103549  \n",
      "spot8   5.725437   6.521480   0.000000   7.573803  \n",
      "spot9   9.680757   1.103549   7.573803   0.000000  \n"
     ]
    }
   ],
   "source": [
    "distmatrix = pdist(df, metric = 'euclidean')\n",
    "row_dist = pd.DataFrame(squareform(distmatrix), columns = labels, index = labels)\n",
    "print(row_dist)"
   ]
  },
  {
   "cell_type": "code",
   "execution_count": 72,
   "metadata": {},
   "outputs": [
    {
     "data": {
      "text/html": [
       "<div>\n",
       "<style scoped>\n",
       "    .dataframe tbody tr th:only-of-type {\n",
       "        vertical-align: middle;\n",
       "    }\n",
       "\n",
       "    .dataframe tbody tr th {\n",
       "        vertical-align: top;\n",
       "    }\n",
       "\n",
       "    .dataframe thead th {\n",
       "        text-align: right;\n",
       "    }\n",
       "</style>\n",
       "<table border=\"1\" class=\"dataframe\">\n",
       "  <thead>\n",
       "    <tr style=\"text-align: right;\">\n",
       "      <th></th>\n",
       "      <th>클러스터ID_1</th>\n",
       "      <th>클러스터ID_2</th>\n",
       "      <th>거리</th>\n",
       "      <th>클러스터 멤버수</th>\n",
       "    </tr>\n",
       "  </thead>\n",
       "  <tbody>\n",
       "    <tr>\n",
       "      <th>클러스터 10</th>\n",
       "      <td>7.0</td>\n",
       "      <td>9.0</td>\n",
       "      <td>1.103549</td>\n",
       "      <td>2.0</td>\n",
       "    </tr>\n",
       "    <tr>\n",
       "      <th>클러스터 11</th>\n",
       "      <td>4.0</td>\n",
       "      <td>8.0</td>\n",
       "      <td>1.220409</td>\n",
       "      <td>2.0</td>\n",
       "    </tr>\n",
       "    <tr>\n",
       "      <th>클러스터 12</th>\n",
       "      <td>0.0</td>\n",
       "      <td>1.0</td>\n",
       "      <td>2.702177</td>\n",
       "      <td>2.0</td>\n",
       "    </tr>\n",
       "    <tr>\n",
       "      <th>클러스터 13</th>\n",
       "      <td>2.0</td>\n",
       "      <td>5.0</td>\n",
       "      <td>2.947552</td>\n",
       "      <td>2.0</td>\n",
       "    </tr>\n",
       "    <tr>\n",
       "      <th>클러스터 14</th>\n",
       "      <td>3.0</td>\n",
       "      <td>10.0</td>\n",
       "      <td>4.277315</td>\n",
       "      <td>3.0</td>\n",
       "    </tr>\n",
       "    <tr>\n",
       "      <th>클러스터 15</th>\n",
       "      <td>6.0</td>\n",
       "      <td>11.0</td>\n",
       "      <td>5.418614</td>\n",
       "      <td>3.0</td>\n",
       "    </tr>\n",
       "    <tr>\n",
       "      <th>클러스터 16</th>\n",
       "      <td>14.0</td>\n",
       "      <td>15.0</td>\n",
       "      <td>8.222108</td>\n",
       "      <td>6.0</td>\n",
       "    </tr>\n",
       "    <tr>\n",
       "      <th>클러스터 17</th>\n",
       "      <td>12.0</td>\n",
       "      <td>16.0</td>\n",
       "      <td>12.983494</td>\n",
       "      <td>8.0</td>\n",
       "    </tr>\n",
       "    <tr>\n",
       "      <th>클러스터 18</th>\n",
       "      <td>13.0</td>\n",
       "      <td>17.0</td>\n",
       "      <td>13.949284</td>\n",
       "      <td>10.0</td>\n",
       "    </tr>\n",
       "  </tbody>\n",
       "</table>\n",
       "</div>"
      ],
      "text/plain": [
       "         클러스터ID_1  클러스터ID_2         거리  클러스터 멤버수\n",
       "클러스터 10       7.0       9.0   1.103549       2.0\n",
       "클러스터 11       4.0       8.0   1.220409       2.0\n",
       "클러스터 12       0.0       1.0   2.702177       2.0\n",
       "클러스터 13       2.0       5.0   2.947552       2.0\n",
       "클러스터 14       3.0      10.0   4.277315       3.0\n",
       "클러스터 15       6.0      11.0   5.418614       3.0\n",
       "클러스터 16      14.0      15.0   8.222108       6.0\n",
       "클러스터 17      12.0      16.0  12.983494       8.0\n",
       "클러스터 18      13.0      17.0  13.949284      10.0"
      ]
     },
     "execution_count": 72,
     "metadata": {},
     "output_type": "execute_result"
    }
   ],
   "source": [
    "row_clusters = linkage(distmatrix, method = 'average')\n",
    "\n",
    "pd.DataFrame(row_clusters,\n",
    "            columns=['클러스터ID_1', '클러스터ID_2', '거리', '클러스터 멤버수'],\n",
    "            index = ['클러스터 %d' %(i+10) for i in range(row_clusters.shape[0])])"
   ]
  },
  {
   "cell_type": "code",
   "execution_count": 71,
   "metadata": {},
   "outputs": [
    {
     "data": {
      "image/png": "[encoded data removed]",
      "text/plain": [
       "<Figure size 432x288 with 1 Axes>"
      ]
     },
     "metadata": {
      "needs_background": "light"
     },
     "output_type": "display_data"
    }
   ],
   "source": [
    "row_dendr = dendrogram(row_clusters, labels = labels)\n",
    "plt.tight_layout()\n",
    "plt.ylabel('euclide')\n",
    "plt.show()"
   ]
  },
  {
   "cell_type": "code",
   "execution_count": null,
   "metadata": {},
   "outputs": [],
   "source": []
  }
 ],
 "metadata": {
  "kernelspec": {
   "display_name": "Python 3",
   "language": "python",
   "name": "python3"
  },
  "language_info": {
   "codemirror_mode": {
    "name": "ipython",
    "version": 3
   },
   "file_extension": ".py",
   "mimetype": "text/x-python",
   "name": "python",
   "nbconvert_exporter": "python",
   "pygments_lexer": "ipython3",
   "version": "3.8.3"
  }
 },
 "nbformat": 4,
 "nbformat_minor": 4
}
