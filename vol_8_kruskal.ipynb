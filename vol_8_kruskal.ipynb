{
 "cells": [
  {
   "cell_type": "code",
   "execution_count": 1,
   "metadata": {
    "scrolled": true
   },
   "outputs": [],
   "source": [
    "import pandas as pd\n",
    "import numpy as np\n",
    "from scipy.spatial.distance import pdist, squareform\n",
    "import matplotlib.pyplot as plt\n",
    "import matplotlib\n",
    "from scipy.cluster.hierarchy import linkage\n",
    "from scipy.cluster.hierarchy import dendrogram\n",
    "from sklearn.cluster import KMeans, AgglomerativeClustering, DBSCAN\n",
    "from sklearn.preprocessing import StandardScaler\n",
    "\n",
    "from sklearn.cluster import KMeans\n",
    "import seaborn as sns"
   ]
  },
  {
   "cell_type": "code",
   "execution_count": 2,
   "metadata": {},
   "outputs": [],
   "source": [
    "# 시작점, 끝점을 하나의 넘파이로 합쳐놓기(테스트를 위해 시작점 2를 삽입없이 합치는 기능도 넣음)\n",
    "def start_end_marge (end_point, start_point_1, start_point_2 = False):\n",
    "    n = 2\n",
    "    SE = np.array([])\n",
    "    SE = np.append(SE, end_point)\n",
    "    SE = np.append(SE, start_point_1)\n",
    "    if (start_point_2 != False):\n",
    "        SE = np.append(SE, start_point_2)\n",
    "        n = 3\n",
    "    SE = np.reshape(SE, (n, 2))\n",
    "        \n",
    "    return SE, n"
   ]
  },
  {
   "cell_type": "code",
   "execution_count": 3,
   "metadata": {},
   "outputs": [],
   "source": [
    "#input_spot = int(input('input_spot(int) : '))\n",
    "#input_range = float(input('input_range(float) : '))\n",
    "#input_eps = float(input('input_eps(float) : '))\n",
    "#input_min = int(input('input_min(int) : '))\n",
    "input_spot = 25\n",
    "input_range = 20\n",
    "input_eps = 0.45\n",
    "input_min  = 2\n",
    "min_range = 0\n",
    "max_range = 100\n",
    "\n",
    "start_point_1 = (max_range - min_range) * np.random.random_sample(2) + min_range\n",
    "start_point_2 = [0.0, 0.0]\n",
    "end_point = (max_range - min_range) * np.random.random_sample(2) + min_range\n",
    "\n",
    "SE, SE_n = start_end_marge(end_point, start_point_1)"
   ]
  },
  {
   "cell_type": "code",
   "execution_count": 4,
   "metadata": {},
   "outputs": [
    {
     "name": "stdout",
     "output_type": "stream",
     "text": [
      "[78.89596095 35.13216252]\n"
     ]
    }
   ],
   "source": [
    "print(end_point)"
   ]
  },
  {
   "cell_type": "markdown",
   "metadata": {},
   "source": [
    "# 랜덤 스팟 생성"
   ]
  },
  {
   "cell_type": "code",
   "execution_count": 5,
   "metadata": {},
   "outputs": [],
   "source": [
    "def make_random_spot (input_spot, min_range, max_range, input_x, rseed=None):\n",
    "    if(rseed != None):\n",
    "        np.random.seed(rseed)\n",
    "        \n",
    "    var = ['X', 'Y']\n",
    "    labels=['spot0']\n",
    "    for i in range(0,input_spot-1):\n",
    "        z = 'spot'+str(i+1)\n",
    "        labels.append(z)\n",
    "        \n",
    "    # X를 사전에 만들어둔게 없으면 랜덤으로 만들어줌\n",
    "    # 만들어둔게 있다면 X를 input_x에 입력받아서 데이터 프레임 만들 때 사용\n",
    "    if len(input_x) == 0:\n",
    "        X = (max_range - min_range) * np.random.random_sample([input_spot,2]) + min_range\n",
    "    else:\n",
    "        X = input_x\n",
    "    df = pd.DataFrame(X, columns = var, index = labels)\n",
    "    \n",
    "    return labels, X, df"
   ]
  },
  {
   "cell_type": "code",
   "execution_count": 6,
   "metadata": {},
   "outputs": [],
   "source": [
    "def x(input_spot):\n",
    "    in_x = [[151, 30], [6, 77], [118, 145], [13, 134], [80, 41], [119, 67], [28, 0], [148, 200], [22, 68], [134, 119], [194, 27], [128, 39], [103, 21], [8, 30], [57, 173], [86, 89], [22, 76], [48, 191], [186, 1], [38, 185], [116, 182], [198, 136], [41, 106], [126, 109], [155, 70], [102, 114], [21, 165], [23, 44], [123, 49], [183, 100], [2, 165], [150, 80], [80, 68], [190, 178], [93, 200], [89, 22], [177, 129], [78, 153], [151, 72], [141, 192], [195, 87], [73, 156], [180, 90], [120, 129], [126, 66], [70, 31], [43, 179], [111, 124], [0, 110], [119, 50], [174, 133], [128, 85], [120, 137], [145, 165], [72, 183], [21, 188], [100, 42], [40, 183], [118, 27], [168, 50], [43, 130], [98, 160], [181, 83], [125, 131], [94, 99], [45, 120], [24, 3], [82, 165], [174, 93], [85, 28], [87, 122], [174, 159], [12, 18], [66, 192], [189, 26], [56, 12], [92, 104], [15, 48], [92, 22], [190, 111], [27, 166], [45, 56], [64, 12], [186, 88], [105, 46], [114, 86], [190, 107], [59, 150], [178, 89], [200, 58], [136, 69], [160, 140], [188, 137], [169, 31], [135, 78], [126, 64], [41, 113], [66, 146], [10, 117], [191, 185]]\n",
    "    input_x = np.array(in_x)\n",
    "    input_spot = len(input_x)\n",
    "    return input_x, input_spot"
   ]
  },
  {
   "cell_type": "code",
   "execution_count": 7,
   "metadata": {},
   "outputs": [],
   "source": [
    "X, in_spot = x(input_spot)\n",
    "\n",
    "# 랜덤한 값을 받을거면 input_x 자리에 [] 입력하고 아니라면 X를 입력하면 됨 (seed == 111)\n",
    "labels, X, df = make_random_spot(input_spot, min_range, max_range, [])"
   ]
  },
  {
   "cell_type": "markdown",
   "metadata": {},
   "source": [
    "# 군집 전 랜덤 스팟 출력\n",
    "삭제해도 괜찮지만 스팟 번호 확인, 전체 스팟의 초기 상태를 확인 할 수 있는 그래프임"
   ]
  },
  {
   "cell_type": "code",
   "execution_count": 8,
   "metadata": {},
   "outputs": [
    {
     "data": {
      "text/plain": [
       "'for i in range(0,input_spot):\\n    if(i == 0):\\n        str_val = \"%s\"%(labels[i])\\n    else:\\n        str_val = \"0\"\\n    plt.text(X[i,0]+0.5, X[i,1], str_val, fontsize=9, color=\\'black\\',\\n             horizontalalignment = \\'left\\', verticalalignment = \\'top\\')'"
      ]
     },
     "execution_count": 8,
     "metadata": {},
     "output_type": "execute_result"
    },
    {
     "data": {
      "image/png": "[encoded data removed]",
      "text/plain": [
       "<Figure size 936x360 with 1 Axes>"
      ]
     },
     "metadata": {
      "needs_background": "light"
     },
     "output_type": "display_data"
    }
   ],
   "source": [
    "plt.figure(figsize=(13,5))\n",
    "plt.subplot(121)\n",
    "plt.title('random_spots on graph')\n",
    "plt.scatter(X[:,0], X[:,1], c = 'blue', marker = 'o', s = 30)\n",
    "plt.grid(True)\n",
    "\n",
    "#점에 번호 붙여주는 기능↓ 나중에 주석 제거해서 사용가능\n",
    "\"\"\"for i in range(0,input_spot):\n",
    "    str_val = \"(%.1f,%.1f)-%s\"%(X[i,0], X[i,1], labels[i])\n",
    "    plt.text(X[i,0]+0.5, X[i,1], str_val, fontsize=9, color='black',\n",
    "             horizontalalignment = 'left', verticalalignment = 'center')\"\"\"\n",
    "\n",
    "\"\"\"for i in range(0,input_spot):\n",
    "    if(i == 0):\n",
    "        str_val = \"%s\"%(labels[i])\n",
    "    else:\n",
    "        str_val = \"0\"\n",
    "    plt.text(X[i,0]+0.5, X[i,1], str_val, fontsize=9, color='black',\n",
    "             horizontalalignment = 'left', verticalalignment = 'top')\"\"\""
   ]
  },
  {
   "cell_type": "markdown",
   "metadata": {},
   "source": [
    "# DBSCAN 노이즈 계산"
   ]
  },
  {
   "cell_type": "code",
   "execution_count": 9,
   "metadata": {},
   "outputs": [],
   "source": [
    "def make_DBSCAN (input_eps, input_min, df_dbscan, visualization = False):\n",
    "    if((input_eps == 0) or (input_min == 0)):\n",
    "        input_eps = 0.21\n",
    "        input_min = 2\n",
    "    \n",
    "    scaler_ss = StandardScaler().fit(df_dbscan)\n",
    "    x_scaled_ss = scaler_ss.transform(df_dbscan) \n",
    "    dbscan = DBSCAN(eps = input_eps, min_samples = input_min)\n",
    "    clusters_ss = dbscan.fit_predict(x_scaled_ss)\n",
    "    \n",
    "    length = len(format(np.unique(clusters_ss)))\n",
    "    \n",
    "    # visualization = True 입력할때만 출력해주고 default는 출력 없음\n",
    "    if(visualization == True):  \n",
    "        df_np = np.hstack([df_dbscan, clusters_ss.reshape(-1, 1)]) # x_scaled_ss 오른쪽에 1열 붙이기\n",
    "        \n",
    "        for i in range(length):\n",
    "            df_ft = df_np[df_np[:,2]==i, :]\n",
    "            plt.scatter(df_ft[:, 0], df_ft[:, 1], cmap='PuOr', alpha = 0.8)\n",
    "            \n",
    "        # 노이즈 출력\n",
    "        df_ft1 = df_np[df_np[:,2]==-1, :]\n",
    "        plt.scatter(df_ft1[:, 0], df_ft1[:, 1], color = 'black')\n",
    "        \n",
    "        # ar은 노이즈로 분류된 점들의 첫 인덱스 번호를 가지고 있음\n",
    "        ar = []\n",
    "        for i in range(len(df)):\n",
    "            if(df_np[i,2]==-1):\n",
    "                ar.append(i)\n",
    "        \n",
    "        plt.grid(True)\n",
    "        plt.show()\n",
    "    \n",
    "    return ar"
   ]
  },
  {
   "cell_type": "code",
   "execution_count": 10,
   "metadata": {},
   "outputs": [
    {
     "data": {
      "image/png": "[encoded data removed]",
      "text/plain": [
       "<Figure size 432x288 with 1 Axes>"
      ]
     },
     "metadata": {
      "needs_background": "light"
     },
     "output_type": "display_data"
    },
    {
     "name": "stdout",
     "output_type": "stream",
     "text": [
      "노이즈들 인덱스(ar) ->\n",
      " [1, 5, 7, 8, 10, 15, 17, 22, 23, 24]\n"
     ]
    }
   ],
   "source": [
    "# dbscan에서 사용하기 위한 df의 값 복사본(데이터프레임 -> 리스트)을 함수 인자로 넣어줌\n",
    "ar = make_DBSCAN(input_eps, input_min, df.values, True)\n",
    "drop_len = len(ar)\n",
    "\n",
    "print('노이즈들 인덱스(ar) ->\\n',ar)"
   ]
  },
  {
   "cell_type": "markdown",
   "metadata": {},
   "source": [
    "# 계산된 노이즈들을 군집에서 제외"
   ]
  },
  {
   "cell_type": "code",
   "execution_count": 11,
   "metadata": {},
   "outputs": [],
   "source": [
    "def delete_noise (drop_df, ar ,drop_len):\n",
    "    drop_list = np.array([])\n",
    "    # drop_df = 노이즈 삭제 된 df\n",
    "    # drop_list = 삭제 된 노이즈들 모인 list\n",
    "    \n",
    "    for i in range(drop_len):\n",
    "        drop_list = np.append(drop_list, drop_df.values[ar[i]-i])\n",
    "        sp = 'spot'+str(ar[i])\n",
    "        drop_df = drop_df.drop([sp])\n",
    "    \n",
    "    drop_list = np.reshape(drop_list, (drop_len, 2))\n",
    "    new_X = drop_df.values \n",
    "    # new_X = 마지막에서 좌표 출력할 때 사용될 랜덤 좌표계(노이즈 제거)\n",
    "    \n",
    "    new_labels = labels.copy()\n",
    "    for i in range(len(ar)):\n",
    "        a= 'spot'+str(ar[i])\n",
    "        new_labels.remove(a)\n",
    "    \n",
    "    return new_X, drop_df, drop_list, new_labels"
   ]
  },
  {
   "cell_type": "code",
   "execution_count": 12,
   "metadata": {},
   "outputs": [
    {
     "name": "stdout",
     "output_type": "stream",
     "text": [
      "25\n",
      "15\n"
     ]
    }
   ],
   "source": [
    "new_X, drop_df, drop_list, new_labels = delete_noise(df, ar, drop_len)\n",
    "\n",
    "#=====================================================삭제요망\n",
    "'''\n",
    "in_df = drop_df.values[0]\n",
    "drop_list.append(in_df)\n",
    "sp = 'spot'+str(0)\n",
    "drop_df = drop_df.drop([sp])\n",
    "\n",
    "print(df)\n",
    "print(drop_list)\n",
    "print(drop_df)\n",
    "'''\n",
    "\n",
    "print(len(labels))\n",
    "print(len(new_labels))"
   ]
  },
  {
   "cell_type": "markdown",
   "metadata": {},
   "source": [
    "# 군집 + 덴드로그램 출력"
   ]
  },
  {
   "cell_type": "code",
   "execution_count": 13,
   "metadata": {},
   "outputs": [],
   "source": [
    "def hierarchical_dendrogram(drop_df, new_labels, input_spot=0, drop_len=0, \n",
    "                            row_dist_print=False, a_print=False, dendrogram_print=False):\n",
    "    \n",
    "    distmatrix = pdist(drop_df, metric = 'euclidean')\n",
    "    row_dist = pd.DataFrame(squareform(distmatrix), columns = new_labels, index = new_labels)\n",
    "    \n",
    "    if((input_spot + drop_len) == 0):\n",
    "        print('row_dist 반환')\n",
    "        return row_dist\n",
    "    \n",
    "    row_clusters = linkage(distmatrix, method = 'average')\n",
    "    \n",
    "    if(row_dist_print == True):\n",
    "        print_col = row_dist.iloc[:5,:5]\n",
    "        print(print_col)\n",
    "        \n",
    "    if(a_print == True):\n",
    "        a=pd.DataFrame(row_clusters,\n",
    "            columns=['클러스터ID_1', '클러스터ID_2', '거리', '클러스터 멤버수'],\n",
    "            index = ['클러스터 %d' %(i+input_spot-drop_len) for i in range(row_clusters.shape[0])])\n",
    "        print(a[:5])\n",
    "        \n",
    "    if(dendrogram_print == True):\n",
    "        plt.figure(figsize=(25,5))\n",
    "        plt.subplot(121)\n",
    "        plt.title('dendrogram')\n",
    "        row_dendr = dendrogram(row_clusters, labels = new_labels)\n",
    "        plt.tight_layout()\n",
    "        plt.ylabel('euclide')\n",
    "    \n",
    "    return row_clusters"
   ]
  },
  {
   "cell_type": "code",
   "execution_count": 14,
   "metadata": {},
   "outputs": [],
   "source": [
    "row_clusters = hierarchical_dendrogram(drop_df, new_labels, input_spot, drop_len)"
   ]
  },
  {
   "cell_type": "markdown",
   "metadata": {},
   "source": [
    "# 군집별 넘버링 함수 + 출력"
   ]
  },
  {
   "cell_type": "code",
   "execution_count": 15,
   "metadata": {},
   "outputs": [],
   "source": [
    "def cluster_numbering(row_clusters, input_range):\n",
    "    # 넘버링에 필요한 재귀함수\n",
    "    def found_num(Num, count, h):\n",
    "        # ↓이미 넘버링 끝났는지 확인(끝났으면 0이므로 탈출, 아니면 지금 넘버링 시작이니 0으로 지정)\n",
    "        if(iHave[Num][3]==0):\n",
    "            return -1\n",
    "        else:\n",
    "            iHave[Num][3] = 0\n",
    "            \n",
    "        # 왼쪽 자식 확인\n",
    "        if(iHave[Num][0] < h):\n",
    "            cluster_done[int(iHave[Num][0])] = count\n",
    "        else: #재귀\n",
    "            left = int(iHave[Num][0]) - h\n",
    "            found_num(left,count,h)\n",
    "            \n",
    "        # 오른쪽 자식 확인\n",
    "        if(iHave[Num][1] < h):\n",
    "            cluster_done[int(iHave[Num][1])] = count\n",
    "        else: #재귀\n",
    "            right = int(iHave[Num][1]) - h\n",
    "            found_num(right,count,h)\n",
    "        return\n",
    "    \n",
    "    rc_len = len(row_clusters)\n",
    "    for i in range(0, rc_len):\n",
    "        if(row_clusters[i][2] > float(input_range)):\n",
    "            iHave = row_clusters[:i,:]\n",
    "            num = i - 1 #몇 번의 합치기가 되었는지 저장\n",
    "            break\n",
    "            \n",
    "    # 빈 리스트를 군집 개수 만큼 생성\n",
    "    h = rc_len + 1\n",
    "    cluster_done = [-1 for _ in range(h)]\n",
    "    \n",
    "    \n",
    "    # 재귀 함수 호출\n",
    "    count = 1\n",
    "    for i in range(num, -1, -1):\n",
    "        cycle = found_num(i, count, h)\n",
    "        if (cycle != -1):\n",
    "            count += 1\n",
    "    \n",
    "    return cluster_done"
   ]
  },
  {
   "cell_type": "code",
   "execution_count": 16,
   "metadata": {},
   "outputs": [
    {
     "data": {
      "image/png": "[encoded data removed]",
      "text/plain": [
       "<Figure size 936x360 with 2 Axes>"
      ]
     },
     "metadata": {
      "needs_background": "light"
     },
     "output_type": "display_data"
    }
   ],
   "source": [
    "cluster_done = cluster_numbering(row_clusters.copy(), input_range)\n",
    "\n",
    "\n",
    "plt.figure(figsize=(13,5))\n",
    "plt.subplot(121)\n",
    "plt.title('print noise')\n",
    "plt.scatter(new_X[:,0], new_X[:,1], c=cluster_done, marker = 'o', s=30, cmap='tab20b', alpha = 0.8)\n",
    "plt.scatter(drop_list[:, 0], drop_list[:, 1], marker = 'x', s=40, color = 'black')\n",
    "plt.grid(True)\n",
    "\n",
    "\n",
    "plt.subplot(122)\n",
    "plt.title('print clusters')\n",
    "plt.scatter(new_X[:,0], new_X[:,1], c=cluster_done, marker = 'o', s=30, cmap='tab20b', alpha = 0.8)\n",
    "plt.grid(True)\n",
    "\n",
    "\n",
    "plt.show()"
   ]
  },
  {
   "cell_type": "markdown",
   "metadata": {},
   "source": [
    "# 군집별 중앙 값 검색(함수, 정렬, 중심찾기)"
   ]
  },
  {
   "cell_type": "code",
   "execution_count": 17,
   "metadata": {},
   "outputs": [],
   "source": [
    "def quick_sort(centroid_X):\n",
    "    def sort(low, high):\n",
    "        if high <= low:\n",
    "            return\n",
    "        \n",
    "        mid = partition(low, high)\n",
    "        sort(low, mid - 1)\n",
    "        sort(mid, high)\n",
    "    \n",
    "    def partition(low, high):\n",
    "        pivot = centroid_X[(low + high) // 2][2]\n",
    "        while low <= high:\n",
    "            while centroid_X[low][2] < pivot:\n",
    "                #print(centroid_X[low][2], low, pivot)\n",
    "                low += 1\n",
    "            while centroid_X[high][2] > pivot:\n",
    "                high -= 1\n",
    "            if low <= high:\n",
    "                centroid_X[low][2], centroid_X[high][2] = centroid_X[high][2].copy(), centroid_X[low][2].copy()\n",
    "                centroid_X[low][1], centroid_X[high][1] = centroid_X[high][1].copy(), centroid_X[low][1].copy()\n",
    "                centroid_X[low][0], centroid_X[high][0] = centroid_X[high][0].copy(), centroid_X[low][0].copy()\n",
    "                low, high = low + 1, high - 1\n",
    "        return low\n",
    "    \n",
    "    return sort(0, len(centroid_X) - 1)\n",
    "\n",
    "def marge_n_sort (input_spot, drop_list, drop_len, new_X, cluster_done):\n",
    "    # 중앙 좌표 저장을 위한 numpy배열 생성(-1.0으로 모두 채움)\n",
    "    centroid_X = np.full((input_spot - drop_len,3), -1.0)\n",
    "    \n",
    "    #스팟 좌표+소속 군집 번호\n",
    "    for i in range(input_spot - drop_len):\n",
    "        centroid_X[i][0] = new_X[i][0]\n",
    "        centroid_X[i][1] = new_X[i][1]\n",
    "        centroid_X[i][2] = cluster_done[i]\n",
    "    \n",
    "    non_sort_centroid = centroid_X.copy()\n",
    "    quick_sort(centroid_X)\n",
    "    \n",
    "    #노이즈 좌표 + 노이즈 번호(노이즈는 모두 -1)\n",
    "    for i in range(drop_len):\n",
    "        non_sort_centroid = np.append(non_sort_centroid, (drop_list[i][0],drop_list[i][1],-1.0))\n",
    "        centroid_X = np.append(centroid_X, (drop_list[i][0],drop_list[i][1],-1.0))\n",
    "    \n",
    "    non_sort_centroid = np.reshape(non_sort_centroid, (input_spot,3))\n",
    "    centroid_X = np.reshape(centroid_X, (input_spot,3))\n",
    "    \n",
    "    return centroid_X, non_sort_centroid"
   ]
  },
  {
   "cell_type": "code",
   "execution_count": 18,
   "metadata": {},
   "outputs": [],
   "source": [
    "def make_centroid(centroid_X):\n",
    "    # 중심 좌표 계산\n",
    "    count = 1\n",
    "    sumx = sumy = 0.0\n",
    "    centroid = np.array([])\n",
    "    shape = 0\n",
    "    \n",
    "    for i in range(len(centroid_X)):\n",
    "        if(centroid_X[i][2] == -1):\n",
    "            continue\n",
    "        \n",
    "        sumx += centroid_X[i][0]\n",
    "        sumy += centroid_X[i][1]\n",
    "        count += 1\n",
    "        if(centroid_X[i][2] != centroid_X[i+1][2]):\n",
    "            centroid = np.append(centroid, [sumx / float(count-1),sumy / float(count-1)])\n",
    "            count = 1\n",
    "            sumx = sumy = 0\n",
    "            shape = int(centroid_X[i][2])\n",
    "    \n",
    "    centroid = np.reshape(centroid, (shape,2))\n",
    "    \n",
    "    return centroid"
   ]
  },
  {
   "cell_type": "code",
   "execution_count": 19,
   "metadata": {},
   "outputs": [],
   "source": [
    "centroid_X, non_sort_centroid = marge_n_sort (input_spot, drop_list, drop_len, new_X, cluster_done)\n",
    "centroid = make_centroid(centroid_X)\n",
    "#print(len(centroid))\n",
    "#print(centroid_X)"
   ]
  },
  {
   "cell_type": "markdown",
   "metadata": {},
   "source": [
    "#  계층 군집되지 못한 노드들을 노이즈로 합치기"
   ]
  },
  {
   "cell_type": "code",
   "execution_count": 20,
   "metadata": {},
   "outputs": [],
   "source": [
    "J = len(cluster_done)-1\n",
    "i = 0\n",
    "while True:\n",
    "    if i >= J:\n",
    "        break\n",
    "    if cluster_done[i] == -1:\n",
    "        del cluster_done[i]\n",
    "        drop_list = np.append(drop_list, new_X[i])\n",
    "        new_X = np.delete(new_X, i, axis = 0)        \n",
    "        drop_len += 1\n",
    "        i -= 1\n",
    "        J -= 1\n",
    "    i += 1\n",
    "drop_list = drop_list.reshape(drop_len, 2)"
   ]
  },
  {
   "cell_type": "markdown",
   "metadata": {},
   "source": [
    "# 최종 출력"
   ]
  },
  {
   "cell_type": "code",
   "execution_count": 21,
   "metadata": {},
   "outputs": [
    {
     "data": {
      "image/png": "[encoded data removed]",
      "text/plain": [
       "<Figure size 936x360 with 2 Axes>"
      ]
     },
     "metadata": {
      "needs_background": "light"
     },
     "output_type": "display_data"
    }
   ],
   "source": [
    "plt.figure(figsize=(13,5))\n",
    "plt.subplot(121)\n",
    "plt.title('print clusters and noise')\n",
    "\n",
    "t=plt.scatter(new_X[:,0], new_X[:,1], c=cluster_done, marker = 'o', s=30, cmap='tab20b', alpha = 0.8)\n",
    "plt.scatter(drop_list[:, 0], drop_list[:, 1], marker = 'x', s=40, color = 'black')\n",
    "\n",
    "#plt.scatter(centroid[:,0], centroid[:,1], marker = 'D', s=40, color = 'magenta', alpha = 0.1)\n",
    "plt.grid(True)\n",
    "\n",
    "\n",
    "\n",
    "plt.subplot(122)\n",
    "plt.title('print centroid')\n",
    "\n",
    "plt.scatter(new_X[:,0], new_X[:,1], c=cluster_done, marker = 'o', s=30, cmap='tab20b', alpha = 0.2)\n",
    "plt.scatter(drop_list[:, 0], drop_list[:, 1], marker = 'D', s=30, color = 'green', alpha = 0.5)\n",
    "\n",
    "plt.scatter(centroid[:,0], centroid[:,1], marker = 'D', s=30, color = 'red', alpha = 0.5)\n",
    "plt.grid(True)\n",
    "\n",
    "\n",
    "\n",
    "plt.show()"
   ]
  },
  {
   "cell_type": "markdown",
   "metadata": {},
   "source": [
    "# cenoise (군집 중심 + 노이즈만 합친 넘파이)\n",
    "그리고 시작점, 끝점도 합쳐줌"
   ]
  },
  {
   "cell_type": "code",
   "execution_count": 22,
   "metadata": {},
   "outputs": [
    {
     "data": {
      "image/png": "[encoded data removed]",
      "text/plain": [
       "<Figure size 432x288 with 1 Axes>"
      ]
     },
     "metadata": {
      "needs_background": "light"
     },
     "output_type": "display_data"
    }
   ],
   "source": [
    "cenoise = np.append(drop_list, centroid)\n",
    "cenoise = np.reshape(cenoise, (drop_len+len(centroid),2))\n",
    "plt.title('print cenoise')\n",
    "plt.scatter(cenoise[:, 0], cenoise[:, 1], marker = 'D', s=30, color = 'red')\n",
    "plt.grid(True)\n",
    "plt.show()\n",
    "\n",
    "# cenoise에 시작점, 끝점 합침\n",
    "cenoise = np.append(cenoise, SE)\n",
    "cenoise = np.reshape(cenoise, (drop_len+len(centroid)+SE_n,2))"
   ]
  },
  {
   "cell_type": "markdown",
   "metadata": {},
   "source": [
    "# coordinate_1 (각 스팟의 이동해야할 위치 배열 저장)"
   ]
  },
  {
   "cell_type": "code",
   "execution_count": 23,
   "metadata": {},
   "outputs": [],
   "source": [
    "coordinate_1 = np.array([])\n",
    "for i in range(len(non_sort_centroid)):\n",
    "    n = int(non_sort_centroid[i][2])\n",
    "    if(n != -1):\n",
    "        coordinate_1 = np.append(coordinate_1, centroid[n-1].copy())\n",
    "    else:\n",
    "        coordinate_1 = np.append(coordinate_1, non_sort_centroid[i][:2].copy())\n",
    "\n",
    "coordinate_1 = np.reshape(coordinate_1, (input_spot,2))\n",
    "#print(coordinate_1)"
   ]
  },
  {
   "cell_type": "markdown",
   "metadata": {},
   "source": [
    "# 길찾기 전 cenoise노드들 간의 모든 유클리디언 거리 계산"
   ]
  },
  {
   "cell_type": "code",
   "execution_count": 24,
   "metadata": {},
   "outputs": [
    {
     "name": "stdout",
     "output_type": "stream",
     "text": [
      "row_dist 반환\n",
      "           cen0       cen1       cen2       cen3       cen4\n",
      "cen0   0.000000  53.505521  21.070250  59.329530  13.971071\n",
      "cen1  53.505521   0.000000  72.421181  35.318622  60.218203\n",
      "cen2  21.070250  72.421181   0.000000  70.362352  26.928448\n",
      "cen3  59.329530  35.318622  70.362352   0.000000  71.599136\n",
      "cen4  13.971071  60.218203  26.928448  71.599136   0.000000\n"
     ]
    }
   ],
   "source": [
    "var = ['X', 'Y']\n",
    "cen_labels = ['cen0']\n",
    "for i in range(0,len(cenoise)-1):\n",
    "    z = 'cen'+str(i+1)\n",
    "    cen_labels.append(z)\n",
    "        \n",
    "cenoise_df = pd.DataFrame(cenoise, columns = var, index = cen_labels)\n",
    "cenoise_row_dist = hierarchical_dendrogram(cenoise_df, cen_labels)\n",
    "\n",
    "print(cenoise_row_dist.iloc[:5,:5])"
   ]
  },
  {
   "cell_type": "markdown",
   "metadata": {},
   "source": [
    "# 계산된 유클리디언 거리를 노드1, 노드2, 거리 형식의 numpy로 변환"
   ]
  },
  {
   "cell_type": "code",
   "execution_count": 25,
   "metadata": {},
   "outputs": [],
   "source": [
    "cenoise_eu = np.array([])\n",
    "\n",
    "for i in range(len(cenoise)):\n",
    "    for j in range(len(cenoise)):\n",
    "        if(i <= j):\n",
    "            break\n",
    "        cenoise_eu = np.append(cenoise_eu, [i,j,cenoise_row_dist['cen'+str(i)]['cen'+str(j)]])\n",
    "        \n",
    "# 행렬의 크기는 노드수*(노드수-1)/2\n",
    "m = int(len(cenoise)*(len(cenoise)-1)/2)\n",
    "cenoise_eu = np.reshape(cenoise_eu, (m,3))\n",
    "\n",
    "quick_sort(cenoise_eu)\n",
    "#print(cenoise_eu[:5])"
   ]
  },
  {
   "cell_type": "markdown",
   "metadata": {},
   "source": [
    "# kruskal 알고리즘(제일 거리가 짧은 선부터 연결)"
   ]
  },
  {
   "cell_type": "code",
   "execution_count": 26,
   "metadata": {},
   "outputs": [],
   "source": [
    "'''시작점 1개일 때의 경우만 고려함'''\n",
    "\n",
    "# 시작점과 도착점 각각 가장 먼저 언급 된 선을 찾아서 테이블의 2개의 선으로 따로 삽입함\n",
    "# 연결된 노드들의 순서가 시작점, 출발점이 가장 처음과 끝이 되도록 하기 위한 작업\n",
    "def set_point(cenoise_eu, table, len_cenoise):\n",
    "    found_start = 0\n",
    "    found_end = 0\n",
    "    \n",
    "    for i in range(0,len(cenoise_eu)-1):\n",
    "        if (found_start + found_end == 2):\n",
    "            break\n",
    "            \n",
    "        m = cenoise_eu[i]\n",
    "        m0, m1 = int(m[0]), int(m[1])\n",
    "        \n",
    "        # 출발점 찾기\n",
    "        if(m0 == len_cenoise-1 or m1 == len_cenoise-1):\n",
    "            if (found_start == 0):\n",
    "                found_start = 1\n",
    "                m_start = m.copy()\n",
    "                # 출발점이 항상 왼쪽에 와야 하므로  2가지 경우 다르게 삽입\n",
    "                if (m0 == len_cenoise-1):\n",
    "                    table.append([m[0], m[1]])\n",
    "                else:\n",
    "                    table.append([m[1], m[0]])\n",
    "        # 도착점 찾기\n",
    "        elif(m0 == len_cenoise-2 or m1 == len_cenoise-2):\n",
    "            if (found_end == 0):\n",
    "                found_end = 1\n",
    "                m_end = m.copy()\n",
    "                # 도착점이 항상 오른쪽에 와야 하므로  2가지 경우 다르게 삽입\n",
    "                if (m0 == len_cenoise-2):\n",
    "                    table.append([m[1], m[0]])\n",
    "                else:\n",
    "                    table.append([m[0], m[1]])\n",
    "           \n",
    "    return table, m_start, m_end"
   ]
  },
  {
   "cell_type": "code",
   "execution_count": 27,
   "metadata": {},
   "outputs": [],
   "source": [
    "# 싸이클 찾기(싸이클 존재 시 -1 반환, 싸이클 없다면 len(table_num)==0 반환, 싸이클 없고 연결할 노드 위치 찾으면 array 반환)\n",
    "def find_cycle (table, node):\n",
    "    count = 0\n",
    "    table_num = [] # 몇번 째 테이블 행에 연결할 노드가 있는지 반환\n",
    "    \n",
    "    # table에 아무것도 없으므로 찾을 싸이클도 없기 때문에 len(table_num)==0 반환\n",
    "    if(len(table) == 0):\n",
    "        return table_num\n",
    "    \n",
    "    for i in range(len(table)):\n",
    "        for j in range(len(table[i])):\n",
    "            if(table[i][j] == node[0] or table[i][j] == node[1]):\n",
    "                count += 1\n",
    "            # 싸이클 없고 연결할 노드 찾음\n",
    "            if(j == len(table[i])-1 and count == 1):\n",
    "                table_num.append(i)\n",
    "                count = 0\n",
    "            # 싸이클 발견\n",
    "            if(count == 2):\n",
    "                return -1\n",
    "    \n",
    "    return table_num"
   ]
  },
  {
   "cell_type": "code",
   "execution_count": 28,
   "metadata": {},
   "outputs": [],
   "source": [
    "def connect_line(table, node, table_num = False):\n",
    "    # 존재하는 집합이 없음으로 테이블에 추가하고 종료\n",
    "    if(table_num == False):\n",
    "        table.append([node[0], node[1]])\n",
    "        return table\n",
    "        \n",
    "    # 테이블에 존재하는 노드를 1개만 찾은 경우와 2개 모두를 찾은 경우\n",
    "    if(len(table_num) == 1):\n",
    "        k = table_num[0]\n",
    "        \n",
    "        # 왼쪽 노드가 집합에 있고 인덱스가 0이면 앞에 오른쪽 노드 삽입, 인덱스가 리스트 끝 이면 맨 뒤에 오른쪽 노드 삽입\n",
    "        if node[0] in table[k]:\n",
    "            if(table[k].index(node[0]) == 0):\n",
    "                table[k].insert(0, node[1])\n",
    "            else:\n",
    "                table[k].extend([node[1]])\n",
    "        else:\n",
    "            if(table[k].index(node[1]) == 0):\n",
    "                table[k].insert(0, node[0])\n",
    "            else:\n",
    "                table[k].extend([node[0]])\n",
    "    else:\n",
    "        l1, l2 = table_num[0], table_num[1]\n",
    "        \n",
    "        # 왼쪽 노드가 2개의 집합중 1번에 존재하는지, 2번에 존재하는지 확인\n",
    "        # 1번에 존재하면 오른쪽 노드는 무조건 2번에 존재하게 됨. 반대도 마찬가지\n",
    "        if node[0] in table[l1]:\n",
    "            n1 = table[l1].index(node[0])\n",
    "            n2 = table[l2].index(node[1])\n",
    "        elif node[0] in table[l2]:\n",
    "            n2 = table[l2].index(node[0])\n",
    "            n1 = table[l1].index(node[1])\n",
    "            \n",
    "        # n1과 n2가 같은 경우는 도착 노드와 관계가 있기 때문임\n",
    "        # 따라서 이 경우 하나의 경로를 거꾸로 뒤집어서 붙여줄 필요가 있음\n",
    "        if(n1 == n2):\n",
    "            if (n1 == n2 == 0):\n",
    "                table[l2].reverse()\n",
    "                table[l2].extend(table[l1])\n",
    "                table.remove(table[l1])\n",
    "            else:\n",
    "                table[l1].reverse()\n",
    "                table[l1].extend(table[l2])\n",
    "                table.remove(table[l2])\n",
    "            \n",
    "        # 각 행에서 연결할 노드는 좌우 끝 중 하나임 따라서 하나는 0, 하나는 인덱스 끝 값임\n",
    "        # 만약 인덱스1(n1)이 인덱스2 보다 작다면 n1==0, n2==end of list 라는 뜻. \n",
    "        # n2 뒤에 n1이 붙어야 하므로 붙이고, 뒤에 붙은 집합은 전체 테이블에서 삭제\n",
    "        elif(n1 < n2):\n",
    "            table[l2].extend(table[l1])\n",
    "            table.remove(table[l1])\n",
    "        else:\n",
    "            table[l1].extend(table[l2])\n",
    "            table.remove(table[l2])\n",
    "    \n",
    "    return table"
   ]
  },
  {
   "cell_type": "code",
   "execution_count": 29,
   "metadata": {},
   "outputs": [],
   "source": [
    "# 선 긋고 해당 노드의 tri 리스트에 간선수를 1개씩 더해줌, 최단 경로 산출용 선을 shortest에 삽입\n",
    "def draw_line(tri, cenoise, m0, m1, m, shortest):\n",
    "    lin = np.zeros((2,2)) #그래프 간선 출력용 array : line\n",
    "    \n",
    "    lin[0] = (cenoise[m0][0], cenoise[m1][0])\n",
    "    lin[1] = (cenoise[m0][1], cenoise[m1][1])\n",
    "    \n",
    "    plt.plot(lin[0], lin[1], marker = 'o', color = 'olive', zorder = 1)\n",
    "    \n",
    "    tri[m0] += 1.0\n",
    "    tri[m1] += 1.0\n",
    "    \n",
    "    shortest = np.append(shortest, m)\n",
    "    \n",
    "    return tri, shortest"
   ]
  },
  {
   "cell_type": "code",
   "execution_count": 30,
   "metadata": {},
   "outputs": [
    {
     "data": {
      "image/png": "[encoded data removed]",
      "text/plain": [
       "<Figure size 432x288 with 1 Axes>"
      ]
     },
     "metadata": {
      "needs_background": "light"
     },
     "output_type": "display_data"
    }
   ],
   "source": [
    "tri = np.zeros([len(cenoise)]) #노드들의 연결 간선 수 저장용 array : triple\n",
    "shortest = np.array([]) #최단경로 저장용 array : shortest path\n",
    "table = [] #노드들의 연결 현황을 나타낼 list\n",
    "e = 0\n",
    "\n",
    "len_cenoise = len(cenoise)\n",
    "\n",
    "# 시작.끝을 제외하고 모든 노드는 2개씩의 간선을 가지며 시작.끝은 1개씩만 가짐\n",
    "# 시작점이 2개라면 끝점의 간선은 2개가 됨. 결국 시작점이 1개 추가되어도 \n",
    "# 간선 1개를 갖는 노드는 언제나 2개이기 때문에 공식은 항상 똑같이 2를 빼주고 더해줌\n",
    "roop_stop = 2*(len_cenoise-2)+2\n",
    "\n",
    "# 출발, 도착점을 셋팅하고 표에 출력\n",
    "table, m_start, m_end = set_point(cenoise_eu, table, len_cenoise)\n",
    "tri, shortest = draw_line(tri, cenoise, int(m_start[0]), int(m_start[1]), m_start, shortest)\n",
    "tri, shortest = draw_line(tri, cenoise, int(m_end[0]), int(m_end[1]), m_end, shortest)\n",
    "\n",
    "for i in range(0,len(cenoise_eu)-1):\n",
    "    if(np.sum(tri) == roop_stop-1):\n",
    "        break # 모든 연결 끝. 종료\n",
    "    \n",
    "    m = cenoise_eu[i]\n",
    "    m0, m1 = int(m[0]), int(m[1])\n",
    "    \n",
    "    # 간선을 연결할 노드 중 하나라도 이미 2개의 간선을 가졌다면 긋지 않고 패스\n",
    "    # 시작점 노드는 간선 1개만 가져도 패스(시작점 1개일 때와 2개일 때 따로 검사)\n",
    "    if(tri[m0] == 2.0 or tri[m1] == 2.0):\n",
    "        continue\n",
    "    if(m0 == len_cenoise-1 or m1 == len_cenoise-1):\n",
    "        if(tri[m0] == 1.0 or tri[m1] == 1.0):\n",
    "            continue\n",
    "    if(m0 == len_cenoise-2 or m1 == len_cenoise-2):\n",
    "        if(tri[m0] == 1.0 or tri[m1] == 1.0):\n",
    "            continue\n",
    "            \n",
    "    # 출발점 2개일 때는 현재 고려하지 않기로 함\n",
    "    \"\"\"if(SE_n == 3 and (m0 == len_cenoise-2) or m1 == len_cenoise-2):\n",
    "        if(tri[m0] == 1.0 or tri[m1] == 1.0):\n",
    "            continue\"\"\"\n",
    "    \n",
    "    # 싸이클 찾기\n",
    "    table_num = find_cycle(table, m)\n",
    "    if(table_num == -1):\n",
    "        continue\n",
    "    if(len(table_num) == 0):\n",
    "        table = connect_line(table, m.copy())\n",
    "    else:\n",
    "        table = connect_line(table, m.copy(), table_num)\n",
    "    \n",
    "    # 선 긋기, 간선 수 더하기, 최단 경로 저장\n",
    "    tri, shortest = draw_line(tri, cenoise, m0, m1, m, shortest)\n",
    "\n",
    "# 최단경로 모아둔 리스트를 정렬\n",
    "shortest = np.reshape(shortest,(len_cenoise-1,3))\n",
    "\n",
    "# 노드들(투명), 시작1.시작2.종료(마름모) 추가로 출력 ---- (zorder 수가 높을 수록 상위에 노출됨)\n",
    "plt.scatter(end_point[0], end_point[1], marker = 'D', s=70, color = 'black', alpha = 0.7, zorder = 2)\n",
    "plt.scatter(start_point_1[0], start_point_1[1], marker = 'D', s=70, color = 'red', alpha = 0.7, zorder = 2)\n",
    "#plt.scatter(start_point_2[0], start_point_2[1], marker = 'D', s=50, color = 'cyan', zorder = 2)\n",
    "\n",
    "plt.scatter(cenoise[:, 0], cenoise[:, 1], marker = 'o', s=30, color = 'red', alpha = 0.2)\n",
    "plt.grid(True)\n",
    "plt.show()"
   ]
  },
  {
   "cell_type": "markdown",
   "metadata": {},
   "source": [
    "↓ 확인용 출력(추후 삭제)"
   ]
  },
  {
   "cell_type": "code",
   "execution_count": 31,
   "metadata": {},
   "outputs": [
    {
     "name": "stdout",
     "output_type": "stream",
     "text": [
      "[15, 13, 11, 8, 2, 5, 4, 0, 3, 14, 1, 16, 6, 7, 12, 10, 9]\n",
      "최단경로 :  379.119348605552\n"
     ]
    }
   ],
   "source": [
    "testtt = [int(x) for x in table[0]]\n",
    "print(testtt)\n",
    "print('최단경로 : ',np.sum(shortest[:,2]))\n",
    "#print(shortest)"
   ]
  },
  {
   "cell_type": "markdown",
   "metadata": {},
   "source": [
    "# 문제점 혹은 의문점\n",
    "현재 최단경로에서 출발점과 도착점이 실제 연산된 시작점, 끝점이 아님. 크루스칼로 연산되어서 출발과 도착점의 인덱스가 경로 중간에 삽입되는 상황인데, 이를 수정하여 출발점 == 시작점, 도착점 == 끝점 으로 한다면 결과가 달라질 수 있음.\n",
    "사용된 데이터의 가정이 출발점 == (0,0), 도착점 == (200,200) 이므로 크게 다르지 않아 보이지만 두 점이 랜덤한 위치라면 다른 결과가 나올 수 있음.\n",
    "--> 해결함\n",
    "\n",
    "## 이하 내용은 참고자료 혹은 백업 자료"
   ]
  },
  {
   "cell_type": "raw",
   "metadata": {},
   "source": [
    "lin = np.zeros((2,2))\n",
    "for i in range(0,10):\n",
    "    m = cenoise_eu[i]\n",
    "    lin[0] = (cenoise[int(m[0])][0], cenoise[int(m[1])][0])\n",
    "    lin[1] = (cenoise[int(m[0])][1], cenoise[int(m[1])][1])\n",
    "    plt.plot(lin[0], lin[1], marker = 'o', zorder = 1)\n",
    "    \n",
    "\n",
    "# 노드들(투명), 시작1.시작2.종료(마름모) 추가로 출력 ---- (zorder 수가 높을 수록 상위에 노출됨)\n",
    "plt.scatter(end_point[0], end_point[1], marker = 'D', s=40, color = 'black', alpha = 0.5, zorder = 2)\n",
    "plt.scatter(start_point_1[0], start_point_1[1], marker = 'D', s=40, color = 'red', alpha = 0.5, zorder = 2)\n",
    "#plt.scatter(start_point_2[0], start_point_2[1], marker = 'D', s=50, color = 'cyan', zorder = 2)\n",
    "\n",
    "plt.scatter(cenoise[:, 0], cenoise[:, 1], marker = 'o', s=30, color = 'red', alpha = 0.2)\n",
    "plt.grid(True)\n",
    "plt.show()"
   ]
  },
  {
   "cell_type": "raw",
   "metadata": {},
   "source": [
    "# 이건 알아두자\n",
    "k = []\n",
    "\n",
    "k.append([2])\n",
    "k.extend([[6]])\n",
    "k[1].extend([7])\n",
    "k[1].insert(0,9)\n",
    "k.append([3,4,5])\n",
    "\n",
    "print(k)\n",
    "print(k[0][0])\n",
    "\n",
    "k[1].extend(k[1])\n",
    "print(k)\n",
    "\n",
    "k.remove(k[1])\n",
    "print(k)"
   ]
  },
  {
   "cell_type": "raw",
   "metadata": {},
   "source": [
    "result ->\n",
    "[[2], [9, 6, 7], [3, 4, 5]]\n",
    "2\n",
    "[[2], [9, 6, 7, 9, 6, 7], [3, 4, 5]]\n",
    "[[2], [3, 4, 5]]"
   ]
  },
  {
   "cell_type": "code",
   "execution_count": 32,
   "metadata": {},
   "outputs": [],
   "source": [
    "cenoise_row_dist.to_csv(\"filename.csv\", mode='w')"
   ]
  },
  {
   "cell_type": "code",
   "execution_count": null,
   "metadata": {},
   "outputs": [],
   "source": []
  }
 ],
 "metadata": {
  "kernelspec": {
   "display_name": "Python 3",
   "language": "python",
   "name": "python3"
  },
  "language_info": {
   "codemirror_mode": {
    "name": "ipython",
    "version": 3
   },
   "file_extension": ".py",
   "mimetype": "text/x-python",
   "name": "python",
   "nbconvert_exporter": "python",
   "pygments_lexer": "ipython3",
   "version": "3.8.5"
  }
 },
 "nbformat": 4,
 "nbformat_minor": 4
}
