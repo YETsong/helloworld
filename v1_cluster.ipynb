{
 "cells": [
  {
   "cell_type": "code",
   "execution_count": 1,
   "metadata": {
    "scrolled": true
   },
   "outputs": [],
   "source": [
    "import pandas as pd\n",
    "import numpy as np\n",
    "import matplotlib.pyplot as plt\n",
    "import matplotlib\n",
    "from scipy.spatial.distance import pdist, squareform\n",
    "from scipy.cluster.hierarchy import linkage\n",
    "from scipy.cluster.hierarchy import dendrogram\n",
    "\n",
    "from tqdm import tqdm\n",
    "from copy import deepcopy"
   ]
  },
  {
   "cell_type": "code",
   "execution_count": 2,
   "metadata": {},
   "outputs": [],
   "source": [
    "# 시작점, 끝점을 하나의 넘파이로 합쳐놓기(테스트를 위해 시작점 2를 삽입없이 합치는 기능도 넣음)\n",
    "def start_end_marge (end_point, start_point_1, start_point_2 = False):\n",
    "    n = 2\n",
    "    SE = np.array([])\n",
    "    SE = np.append(SE, end_point)\n",
    "    SE = np.append(SE, start_point_1)\n",
    "    if (start_point_2 != False):\n",
    "        SE = np.append(SE, start_point_2)\n",
    "        n = 3\n",
    "    SE = np.reshape(SE, (n, 2))\n",
    "        \n",
    "    return SE, n"
   ]
  },
  {
   "cell_type": "code",
   "execution_count": 3,
   "metadata": {},
   "outputs": [],
   "source": [
    "#input_spot = int(input('input_spot(int) : '))\n",
    "#input_range = float(input('input_range(float) : '))\n",
    "#input_eps = float(input('input_eps(float) : '))\n",
    "#input_min = int(input('input_min(int) : '))\n",
    "input_spot = 25\n",
    "input_range = 20\n",
    "input_eps = 0.45\n",
    "input_min  = 2\n",
    "min_range = 0\n",
    "max_range = 100\n",
    "\n",
    "start_point_1 = (max_range - min_range) * np.random.random_sample(2) + min_range\n",
    "#start_point_1 = [0.0, 0.0]\n",
    "start_point_2 = [0.0, 0.0]\n",
    "end_point = (max_range - min_range) * np.random.random_sample(2) + min_range\n",
    "#end_point = [100.0, 100.0]\n",
    "\n",
    "SE, SE_n = start_end_marge(end_point, start_point_1)"
   ]
  },
  {
   "cell_type": "markdown",
   "metadata": {},
   "source": [
    "# 랜덤 스팟 생성"
   ]
  },
  {
   "cell_type": "code",
   "execution_count": 4,
   "metadata": {},
   "outputs": [],
   "source": [
    "def make_random_spot (input_spot, min_range, max_range, input_x, rseed=None):\n",
    "    if(rseed != None):\n",
    "        np.random.seed(rseed)\n",
    "        \n",
    "    var = ['X', 'Y']\n",
    "    labels=['spot0']\n",
    "    for i in range(0,input_spot-1):\n",
    "        z = 'spot'+str(i+1)\n",
    "        labels.append(z)\n",
    "        \n",
    "    # X를 사전에 만들어둔게 없으면 랜덤으로 만들어줌\n",
    "    # 만들어둔게 있다면 X를 input_x에 입력받아서 데이터 프레임 만들 때 사용\n",
    "    if len(input_x) == 0:\n",
    "        X = (max_range - min_range) * np.random.random_sample([input_spot,2]) + min_range\n",
    "    else:\n",
    "        X = input_x\n",
    "    df = pd.DataFrame(X, columns = var, index = labels)\n",
    "    \n",
    "    return labels, X, df"
   ]
  },
  {
   "cell_type": "code",
   "execution_count": 5,
   "metadata": {},
   "outputs": [],
   "source": [
    "def x(input_spot):\n",
    "    in_x = [[151, 30], [6, 77], [118, 145], [13, 134], [80, 41], [119, 67], [28, 0], [148, 200], [22, 68], [134, 119], [194, 27], [128, 39], [103, 21], [8, 30], [57, 173], [86, 89], [22, 76], [48, 191], [186, 1], [38, 185], [116, 182], [198, 136], [41, 106], [126, 109], [155, 70], [102, 114], [21, 165], [23, 44], [123, 49], [183, 100], [2, 165], [150, 80], [80, 68], [190, 178], [93, 200], [89, 22], [177, 129], [78, 153], [151, 72], [141, 192], [195, 87], [73, 156], [180, 90], [120, 129], [126, 66], [70, 31], [43, 179], [111, 124], [0, 110], [119, 50], [174, 133], [128, 85], [120, 137], [145, 165], [72, 183], [21, 188], [100, 42], [40, 183], [118, 27], [168, 50], [43, 130], [98, 160], [181, 83], [125, 131], [94, 99], [45, 120], [24, 3], [82, 165], [174, 93], [85, 28], [87, 122], [174, 159], [12, 18], [66, 192], [189, 26], [56, 12], [92, 104], [15, 48], [92, 22], [190, 111], [27, 166], [45, 56], [64, 12], [186, 88], [105, 46], [114, 86], [190, 107], [59, 150], [178, 89], [200, 58], [136, 69], [160, 140], [188, 137], [169, 31], [135, 78], [126, 64], [41, 113], [66, 146], [10, 117], [191, 185]]\n",
    "    input_x = np.array(in_x)\n",
    "    input_spot = len(input_x)\n",
    "    return input_x, input_spot"
   ]
  },
  {
   "cell_type": "code",
   "execution_count": 6,
   "metadata": {},
   "outputs": [],
   "source": [
    "X, in_spot = x(input_spot)\n",
    "\n",
    "# 랜덤한 값을 받을거면 input_x 자리에 [] 입력하고 아니라면 X를 입력하면 됨 (seed == 111)\n",
    "labels, X, df = make_random_spot(input_spot, min_range, max_range, [])"
   ]
  },
  {
   "cell_type": "markdown",
   "metadata": {},
   "source": [
    "# 군집 + 덴드로그램 출력"
   ]
  },
  {
   "cell_type": "code",
   "execution_count": 7,
   "metadata": {},
   "outputs": [],
   "source": [
    "def hierarchical_dendrogram(df, labels, input_spot=0, row_dist_print=False, a_print=False, dendrogram_print=False):\n",
    "    \n",
    "    distmatrix = pdist(df, metric = 'euclidean')\n",
    "    row_dist = pd.DataFrame(squareform(distmatrix), columns = labels, index = labels)\n",
    "    \n",
    "    if(input_spot == 0):\n",
    "        print('row_dist 반환')\n",
    "        return row_dist\n",
    "    \n",
    "    row_clusters = linkage(distmatrix, method = 'complete')\n",
    "    \n",
    "    if(row_dist_print == True):\n",
    "        print_col = row_dist.iloc[:5,:5]\n",
    "        print(print_col)\n",
    "        \n",
    "    if(a_print == True):\n",
    "        a=pd.DataFrame(row_clusters,\n",
    "            columns=['클러스터ID_1', '클러스터ID_2', '거리', '클러스터 멤버수'],\n",
    "            index = ['클러스터 %d' %(i+input_spot) for i in range(row_clusters.shape[0])])\n",
    "        print(a[:5])\n",
    "        \n",
    "    if(dendrogram_print == True):\n",
    "        plt.figure(figsize=(25,5))\n",
    "        plt.subplot(121)\n",
    "        plt.title('dendrogram')\n",
    "        row_dendr = dendrogram(row_clusters, labels = labels)\n",
    "        plt.tight_layout()\n",
    "        plt.ylabel('euclide')\n",
    "    \n",
    "    return row_clusters"
   ]
  },
  {
   "cell_type": "code",
   "execution_count": 8,
   "metadata": {},
   "outputs": [],
   "source": [
    "row_clusters = hierarchical_dendrogram(df, labels, input_spot)"
   ]
  },
  {
   "cell_type": "markdown",
   "metadata": {},
   "source": [
    "# 군집별 넘버링 함수 + 출력"
   ]
  },
  {
   "cell_type": "code",
   "execution_count": 9,
   "metadata": {},
   "outputs": [],
   "source": [
    "def cluster_numbering(row_clusters, input_range):\n",
    "    # 넘버링에 필요한 재귀함수\n",
    "    def found_num(Num, count, h):\n",
    "        # ↓이미 넘버링 끝났는지 확인(끝났으면 0이므로 탈출, 아니면 지금 넘버링 시작이니 0으로 지정)\n",
    "        if(iHave[Num][3]==0):\n",
    "            return -1\n",
    "        else:\n",
    "            iHave[Num][3] = 0\n",
    "            \n",
    "        # 왼쪽 자식 확인\n",
    "        if(iHave[Num][0] < h):\n",
    "            cluster_done[int(iHave[Num][0])] = count\n",
    "        else: #재귀\n",
    "            left = int(iHave[Num][0]) - h\n",
    "            found_num(left,count,h)\n",
    "            \n",
    "        # 오른쪽 자식 확인\n",
    "        if(iHave[Num][1] < h):\n",
    "            cluster_done[int(iHave[Num][1])] = count\n",
    "        else: #재귀\n",
    "            right = int(iHave[Num][1]) - h\n",
    "            found_num(right,count,h)\n",
    "        return\n",
    "    \n",
    "    rc_len = len(row_clusters)\n",
    "    for i in range(0, rc_len):\n",
    "        if(row_clusters[i][2] > float(input_range)):\n",
    "            iHave = row_clusters[:i,:]\n",
    "            num = i - 1 #몇 번의 합치기가 되었는지 저장\n",
    "            break\n",
    "            \n",
    "    # 빈 리스트를 군집 개수 만큼 생성\n",
    "    h = rc_len + 1\n",
    "    cluster_done = [-1 for _ in range(h)]\n",
    "    \n",
    "    \n",
    "    # 재귀 함수 호출\n",
    "    count = 1\n",
    "    for i in range(num, -1, -1):\n",
    "        cycle = found_num(i, count, h)\n",
    "        if (cycle != -1):\n",
    "            count += 1\n",
    "    \n",
    "    return cluster_done"
   ]
  },
  {
   "cell_type": "code",
   "execution_count": 1,
   "metadata": {},
   "outputs": [
    {
     "ename": "NameError",
     "evalue": "name 'cluster_numbering' is not defined",
     "output_type": "error",
     "traceback": [
      "\u001b[1;31m---------------------------------------------------------------------------\u001b[0m",
      "\u001b[1;31mNameError\u001b[0m                                 Traceback (most recent call last)",
      "\u001b[1;32m<ipython-input-1-9e9d45fe0a1a>\u001b[0m in \u001b[0;36m<module>\u001b[1;34m\u001b[0m\n\u001b[1;32m----> 1\u001b[1;33m \u001b[0mcluster_done\u001b[0m \u001b[1;33m=\u001b[0m \u001b[0mcluster_numbering\u001b[0m\u001b[1;33m(\u001b[0m\u001b[0mrow_clusters\u001b[0m\u001b[1;33m.\u001b[0m\u001b[0mcopy\u001b[0m\u001b[1;33m(\u001b[0m\u001b[1;33m)\u001b[0m\u001b[1;33m,\u001b[0m \u001b[0minput_range\u001b[0m\u001b[1;33m)\u001b[0m\u001b[1;33m\u001b[0m\u001b[1;33m\u001b[0m\u001b[0m\n\u001b[0m\u001b[0;32m      2\u001b[0m \u001b[1;33m\u001b[0m\u001b[0m\n\u001b[0;32m      3\u001b[0m \u001b[0mplt\u001b[0m\u001b[1;33m.\u001b[0m\u001b[0mfigure\u001b[0m\u001b[1;33m(\u001b[0m\u001b[0mfigsize\u001b[0m\u001b[1;33m=\u001b[0m\u001b[1;33m(\u001b[0m\u001b[1;36m13\u001b[0m\u001b[1;33m,\u001b[0m\u001b[1;36m5\u001b[0m\u001b[1;33m)\u001b[0m\u001b[1;33m)\u001b[0m\u001b[1;33m\u001b[0m\u001b[1;33m\u001b[0m\u001b[0m\n\u001b[0;32m      4\u001b[0m \u001b[0mplt\u001b[0m\u001b[1;33m.\u001b[0m\u001b[0msubplot\u001b[0m\u001b[1;33m(\u001b[0m\u001b[1;36m121\u001b[0m\u001b[1;33m)\u001b[0m\u001b[1;33m\u001b[0m\u001b[1;33m\u001b[0m\u001b[0m\n\u001b[0;32m      5\u001b[0m \u001b[0mplt\u001b[0m\u001b[1;33m.\u001b[0m\u001b[0mtitle\u001b[0m\u001b[1;33m(\u001b[0m\u001b[1;34m'random_spots on graph'\u001b[0m\u001b[1;33m)\u001b[0m\u001b[1;33m\u001b[0m\u001b[1;33m\u001b[0m\u001b[0m\n",
      "\u001b[1;31mNameError\u001b[0m: name 'cluster_numbering' is not defined"
     ]
    }
   ],
   "source": [
    "cluster_done = cluster_numbering(row_clusters.copy(), input_range)\n",
    "\n",
    "plt.figure(figsize=(13,5))\n",
    "plt.subplot(121)\n",
    "plt.title('random_spots on graph')\n",
    "plt.scatter(X[:,0], X[:,1], c = 'blue', marker = 'o', s = 30)\n",
    "plt.grid(True)\n",
    "\n",
    "#점에 번호 붙여주는 기능↓ 나중에 주석 제거해서 사용가능\n",
    "\"\"\"for i in range(0,input_spot):\n",
    "    str_val = \"(%.1f,%.1f)-%s\"%(X[i,0], X[i,1], labels[i])\n",
    "    plt.text(X[i,0]+0.5, X[i,1], str_val, fontsize=9, color='black',\n",
    "             horizontalalignment = 'left', verticalalignment = 'center')\"\"\"\n",
    "\n",
    "\"\"\"for i in range(0,input_spot):\n",
    "    if(i == 0):\n",
    "        str_val = \"%s\"%(labels[i])\n",
    "    else:\n",
    "        str_val = \"0\"\n",
    "    plt.text(X[i,0]+0.5, X[i,1], str_val, fontsize=9, color='black',\n",
    "             horizontalalignment = 'left', verticalalignment = 'top')\"\"\"\n",
    "\n",
    "plt.subplot(122)\n",
    "plt.title('print clusters')\n",
    "plt.scatter(X[:,0], X[:,1], c=cluster_done, marker = 'o', s=30, cmap='tab20b', alpha = 0.8)\n",
    "plt.grid(True)\n",
    "\n",
    "plt.show()"
   ]
  },
  {
   "cell_type": "markdown",
   "metadata": {},
   "source": [
    "# 군집별 중앙 값 검색(함수, 정렬, 중심찾기)"
   ]
  },
  {
   "cell_type": "code",
   "execution_count": 11,
   "metadata": {},
   "outputs": [],
   "source": [
    "def quick_sort(centroid_X):\n",
    "    def sort(low, high):\n",
    "        if high <= low:\n",
    "            return\n",
    "        \n",
    "        mid = partition(low, high)\n",
    "        sort(low, mid - 1)\n",
    "        sort(mid, high)\n",
    "    \n",
    "    def partition(low, high):\n",
    "        pivot = centroid_X[(low + high) // 2][2]\n",
    "        while low <= high:\n",
    "            while centroid_X[low][2] < pivot:\n",
    "                #print(centroid_X[low][2], low, pivot)\n",
    "                low += 1\n",
    "            while centroid_X[high][2] > pivot:\n",
    "                high -= 1\n",
    "            if low <= high:\n",
    "                centroid_X[low][2], centroid_X[high][2] = centroid_X[high][2].copy(), centroid_X[low][2].copy()\n",
    "                centroid_X[low][1], centroid_X[high][1] = centroid_X[high][1].copy(), centroid_X[low][1].copy()\n",
    "                centroid_X[low][0], centroid_X[high][0] = centroid_X[high][0].copy(), centroid_X[low][0].copy()\n",
    "                low, high = low + 1, high - 1\n",
    "        return low\n",
    "    \n",
    "    return sort(0, len(centroid_X) - 1)\n",
    "\n",
    "def marge_n_sort (input_spot, X, cluster_done):\n",
    "    # 중앙 좌표 저장을 위한 numpy배열 생성(-1.0으로 모두 채움)\n",
    "    centroid_X = np.full((input_spot, 3), -1.0)\n",
    "    \n",
    "    #스팟 좌표+소속 군집 번호\n",
    "    for i in range(input_spot):\n",
    "        centroid_X[i][0] = X[i][0]\n",
    "        centroid_X[i][1] = X[i][1]\n",
    "        centroid_X[i][2] = cluster_done[i]\n",
    "    \n",
    "    non_sort_centroid = centroid_X.copy()\n",
    "    quick_sort(centroid_X)\n",
    "    \n",
    "    #노이즈 좌표 + 노이즈 번호(노이즈는 모두 -1)\n",
    "    \"\"\"for i in range(drop_len):\n",
    "        non_sort_centroid = np.append(non_sort_centroid, (drop_list[i][0],drop_list[i][1],-1.0))\n",
    "        centroid_X = np.append(centroid_X, (drop_list[i][0],drop_list[i][1],-1.0))\"\"\"\n",
    "    \n",
    "    non_sort_centroid = np.reshape(non_sort_centroid, (input_spot,3))\n",
    "    centroid_X = np.reshape(centroid_X, (input_spot,3))\n",
    "    \n",
    "    return centroid_X, non_sort_centroid"
   ]
  },
  {
   "cell_type": "code",
   "execution_count": 12,
   "metadata": {},
   "outputs": [],
   "source": [
    "def make_centroid(centroid_X):\n",
    "    # 중심 좌표 계산\n",
    "    count = 1\n",
    "    sumx = sumy = 0.0\n",
    "    centroid = np.array([])\n",
    "    shape = 0\n",
    "    \n",
    "    for i in range(len(centroid_X)):\n",
    "        if(centroid_X[i][2] == -1):\n",
    "            continue\n",
    "        \n",
    "        sumx += centroid_X[i][0]\n",
    "        sumy += centroid_X[i][1]\n",
    "        count += 1\n",
    "        if (i == len(centroid_X)-1) or (centroid_X[i][2] != centroid_X[i+1][2]):\n",
    "            centroid = np.append(centroid, [sumx / float(count-1),sumy / float(count-1)])\n",
    "            count = 1\n",
    "            sumx = sumy = 0\n",
    "            shape = int(centroid_X[i][2])\n",
    "    \n",
    "    centroid = np.reshape(centroid, (shape,2))\n",
    "    \n",
    "    return centroid"
   ]
  },
  {
   "cell_type": "code",
   "execution_count": 13,
   "metadata": {},
   "outputs": [],
   "source": [
    "centroid_X, non_sort_centroid = marge_n_sort (input_spot, X, cluster_done)\n",
    "centroid = make_centroid(centroid_X)\n",
    "#print(len(centroid))\n",
    "#print(centroid_X)"
   ]
  },
  {
   "cell_type": "markdown",
   "metadata": {},
   "source": [
    "#  계층 군집되지 못한 노드들을 분리"
   ]
  },
  {
   "cell_type": "code",
   "execution_count": 14,
   "metadata": {},
   "outputs": [],
   "source": [
    "def make_drop(new_X, new_cluster_done):\n",
    "    drop_list = np.array([])\n",
    "    drop_len = 0\n",
    "    \n",
    "    J = len(new_cluster_done)\n",
    "    i = 0\n",
    "    \n",
    "    while True:\n",
    "        if i >= J:\n",
    "            break\n",
    "        if new_cluster_done[i] == -1:\n",
    "            del new_cluster_done[i]\n",
    "            drop_list = np.append(drop_list, new_X[i])\n",
    "            new_X = np.delete(new_X, i, axis = 0)\n",
    "            drop_len += 1\n",
    "            i -= 1\n",
    "            J -= 1\n",
    "        i += 1\n",
    "    drop_list = drop_list.reshape(drop_len, 2)\n",
    "    \n",
    "    return new_X, drop_list, drop_len, new_cluster_done"
   ]
  },
  {
   "cell_type": "code",
   "execution_count": 15,
   "metadata": {},
   "outputs": [],
   "source": [
    "new_X, drop_list, drop_len, new_cluster_done = make_drop(X.copy(), deepcopy(cluster_done))"
   ]
  },
  {
   "cell_type": "markdown",
   "metadata": {},
   "source": [
    "# 최종 출력"
   ]
  },
  {
   "cell_type": "code",
   "execution_count": 16,
   "metadata": {},
   "outputs": [
    {
     "data": {
      "image/png": "[encoded data removed]",
      "text/plain": [
       "<Figure size 936x360 with 2 Axes>"
      ]
     },
     "metadata": {
      "needs_background": "light"
     },
     "output_type": "display_data"
    }
   ],
   "source": [
    "plt.figure(figsize=(13,5))\n",
    "plt.subplot(121)\n",
    "plt.title('print clusters and noise')\n",
    "\n",
    "plt.scatter(new_X[:,0], new_X[:,1], c=new_cluster_done, marker = 'o', s=30, cmap='tab20b', alpha = 0.8)\n",
    "plt.scatter(drop_list[:, 0], drop_list[:, 1], marker = 'x', s=40, color = 'black')\n",
    "plt.grid(True)\n",
    "\n",
    "\n",
    "plt.subplot(122)\n",
    "plt.title('print centroid')\n",
    "\n",
    "plt.scatter(new_X[:,0], new_X[:,1], c=new_cluster_done, marker = 'o', s=30, cmap='tab20b', alpha = 0.2)\n",
    "plt.scatter(drop_list[:, 0], drop_list[:, 1], marker = 'D', s=30, color = 'green', alpha = 0.5)\n",
    "plt.scatter(centroid[:,0], centroid[:,1], marker = 'D', s=30, color = 'red', alpha = 0.5)\n",
    "plt.grid(True)\n",
    "\n",
    "\n",
    "plt.show()"
   ]
  },
  {
   "cell_type": "markdown",
   "metadata": {},
   "source": [
    "# cenoise (군집 중심 + 노이즈만 합친 넘파이)\n",
    "그리고 시작점, 끝점도 합쳐줌"
   ]
  },
  {
   "cell_type": "code",
   "execution_count": 17,
   "metadata": {},
   "outputs": [],
   "source": [
    "cenoise = np.append(drop_list, centroid)\n",
    "cenoise = np.reshape(cenoise, (drop_len+len(centroid),2))\n",
    "\n",
    "\"\"\"plt.figure(figsize=(6,5))\n",
    "for i in range(len(cenoise)):\n",
    "    str_val = \"%s\"%str(i)\n",
    "    plt.text(cenoise[i,0]+2, cenoise[i,1], str_val, fontsize=9, color='black',\n",
    "             horizontalalignment = 'left', verticalalignment = 'center')\n",
    "\n",
    "plt.title('print cenoise')\n",
    "plt.scatter(cenoise[:, 0], cenoise[:, 1], marker = 'D', s=30, color = 'red')\n",
    "plt.grid(True)\n",
    "plt.show()\"\"\"\n",
    "\n",
    "# cenoise에 시작점, 끝점 합침\n",
    "cenoise = np.append(cenoise, SE)\n",
    "cenoise = np.reshape(cenoise, (drop_len+len(centroid)+SE_n,2))"
   ]
  },
  {
   "cell_type": "markdown",
   "metadata": {},
   "source": [
    "# coordinate_1 (각 스팟의 이동해야할 위치 배열 저장)"
   ]
  },
  {
   "cell_type": "code",
   "execution_count": 18,
   "metadata": {},
   "outputs": [],
   "source": [
    "coordinate_1 = np.array([])\n",
    "for i in range(len(non_sort_centroid)):\n",
    "    n = int(non_sort_centroid[i][2])\n",
    "    if(n != -1):\n",
    "        coordinate_1 = np.append(coordinate_1, centroid[n-1].copy())\n",
    "    else:\n",
    "        coordinate_1 = np.append(coordinate_1, non_sort_centroid[i][:2].copy())\n",
    "\n",
    "coordinate_1 = np.reshape(coordinate_1, (input_spot,2))\n",
    "#X -> cluster_done -> centroid -> coordinate_1"
   ]
  },
  {
   "cell_type": "code",
   "execution_count": null,
   "metadata": {},
   "outputs": [],
   "source": []
  }
 ],
 "metadata": {
  "kernelspec": {
   "display_name": "Python 3",
   "language": "python",
   "name": "python3"
  },
  "language_info": {
   "codemirror_mode": {
    "name": "ipython",
    "version": 3
   },
   "file_extension": ".py",
   "mimetype": "text/x-python",
   "name": "python",
   "nbconvert_exporter": "python",
   "pygments_lexer": "ipython3",
   "version": "3.8.5"
  }
 },
 "nbformat": 4,
 "nbformat_minor": 4
}
